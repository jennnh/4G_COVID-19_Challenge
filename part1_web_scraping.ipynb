{
 "cells": [
  {
   "cell_type": "code",
   "execution_count": 1,
   "metadata": {},
   "outputs": [],
   "source": [
    "import pandas as pd\n",
    "import numpy as np\n",
    "import re\n",
    "from pprint import pprint\n",
    "from datetime import datetime\n",
    "\n",
    "#scraping\n",
    "import GetOldTweets3 as got\n",
    "import time\n",
    "\n",
    "#plotting\n",
    "import matplotlib.pyplot as plt\n",
    "import seaborn as sns\n",
    "%matplotlib inline"
   ]
  },
  {
   "cell_type": "markdown",
   "metadata": {},
   "source": [
    "# Get Twitter data through web-scraping"
   ]
  },
  {
   "cell_type": "code",
   "execution_count": 2,
   "metadata": {},
   "outputs": [],
   "source": [
    "def get_tweets(text_query, start_date, end_date, lang, location, within):\n",
    "   \n",
    "    # specifying tweet search criteria \n",
    "    tweetCriteria = got.manager.TweetCriteria().setQuerySearch(text_query)\\\n",
    "                          .setSince(start_date)\\\n",
    "                          .setUntil(end_date)\\\n",
    "                          .setLang(lang)\\\n",
    "                          .setNear(location)\\\n",
    "                          .setWithin(within)\n",
    "    \n",
    "    # scraping tweets based on criteria\n",
    "    tweet = got.manager.TweetManager.getTweets(tweetCriteria)\n",
    "    \n",
    "    # creating list of tweets with the tweet attributes \n",
    "    # specified in the list comprehension\n",
    "    text_tweets = [[tw.username,\n",
    "                tw.text,\n",
    "                tw.date,\n",
    "                tw.retweets,\n",
    "                tw.favorites,\n",
    "                tw.hashtags] for tw in tweet]\n",
    "    \n",
    "    # creating dataframe, assigning column names to list of\n",
    "    # tweets corresponding to tweet attributes\n",
    "    tw_df = pd.DataFrame(text_tweets, \n",
    "                         columns = ['User', 'Text', 'Date', 'Retweets', 'Favorites', 'HashTags'])\n",
    "    \n",
    "    return tw_df"
   ]
  },
  {
   "cell_type": "markdown",
   "metadata": {},
   "source": [
    "We selected 10 cities which have large population and the number of confirmed cases of their county is large.  \n",
    "This is based on data from JHU on 2020-04-13.\n",
    "  \n",
    "Selected cities:  \n",
    "New York City, New York  (New York county 103208 1st)  \n",
    "Boston, Massachusetts  (Suffolk county 20934 20th)    \n",
    "Chicago, Illinois  (Cook county 14585 5th)  \n",
    "Detroit, Michigan  (Wayne county 11164 6th)  \n",
    "Los Angeles, California  (Los Angeles county 8894 8th)  \n",
    "Houston, Texas  (Harris county 3747 26th)  \n",
    "Newark, New Jersey  (Essex county 7410 11th)  \n",
    "Miami, Florida  (Miami-dade county 7058 12th)  \n",
    "Philadelphia, Pennsylvania  (Philadelphia county 6386 13th)  \n",
    "New Orleans, Louisiana\t(Orleans county 5600 17th)  \n",
    "  \n",
    "Reference for population: http://www.citymayors.com/gratis/uscities_100.html    "
   ]
  },
  {
   "cell_type": "code",
   "execution_count": 4,
   "metadata": {},
   "outputs": [],
   "source": [
    "# set attributes needed for get_tweets\n",
    "text_query = '#StayHome'\n",
    "start_date = '2020-03-05'\n",
    "end_date = '2020-04-12'\n",
    "lang = 'en'\n",
    "within = '50mi'\n",
    "\n",
    "citys = ['New York City, New York','Boston, Massachusetts','Chicago, Illinois','Detroit, Michigan','Los Angeles, California','Houston, Texas','Newark, New Jersey','Miami, Florida','Philadelphia, Pennsylvania','New Orleans, Louisiana']# export our raw data"
   ]
  },
  {
   "cell_type": "code",
   "execution_count": 5,
   "metadata": {},
   "outputs": [],
   "source": [
    "# scrap needed info and export to csv file\n",
    "for city in citys:\n",
    "    location = city\n",
    "    df = get_tweets(text_query, start_date, end_date, lang, location, within)\n",
    "    df.to_csv(city + '.csv', index = False)\n",
    "    time.sleep(120)"
   ]
  },
  {
   "cell_type": "code",
   "execution_count": 6,
   "metadata": {},
   "outputs": [],
   "source": [
    "# add 'City' column and combine all datasets\n",
    "city_column = ['NY', 'BOSTON', 'CHI', 'DETROIT', 'LA', 'HOUSTON', 'NEWARK', 'MIA', 'PHIL', 'NEW ORLEANS']\n",
    "stayhome = pd.DataFrame()\n",
    "for i in range(len(city_column)):\n",
    "    df = pd.read_csv(citys[i] + '.csv')\n",
    "    df['City'] = city_column[i]\n",
    "    stayhome = pd.concat([stayhome, df], axis = 0)"
   ]
  },
  {
   "cell_type": "code",
   "execution_count": 7,
   "metadata": {},
   "outputs": [],
   "source": [
    "# export our raw data\n",
    "stayhome.to_csv('StayHome.csv', index = False)"
   ]
  },
  {
   "cell_type": "markdown",
   "metadata": {},
   "source": [
    "# Stratified Sampling for Raw Data"
   ]
  },
  {
   "cell_type": "code",
   "execution_count": 25,
   "metadata": {},
   "outputs": [
    {
     "data": {
      "text/plain": [
       "(30282, 7)"
      ]
     },
     "execution_count": 25,
     "metadata": {},
     "output_type": "execute_result"
    }
   ],
   "source": [
    "# import data\n",
    "df = pd.read_csv(\"StayHome.csv\")\n",
    "df.shape"
   ]
  },
  {
   "cell_type": "code",
   "execution_count": 26,
   "metadata": {},
   "outputs": [],
   "source": [
    "# remove duplicates\n",
    "df.replace('[]', np.nan,inplace=True)\n",
    "df.drop_duplicates(inplace =True)\n",
    "df.drop_duplicates(subset = ['Text'],inplace =True)\n",
    "\n",
    "# devide timestamp into date and time\n",
    "df['Date'] = pd.to_datetime(df['Date'])\n",
    "df['date'] = df['Date'].apply( lambda x: x.strftime(\"%Y-%m-%d\"))\n",
    "df['time'] = df['Date'].apply( lambda x: x.strftime(\"%H-%M-%S\"))\n",
    "df.drop(['Date'],axis = 1, inplace =True)\n",
    "\n",
    "# replace city initials with city names\n",
    "replace_values = {'NY' : 'New York', 'BOSTON' : 'Boston', 'CHI' : 'Chicago', 'DETROIT' : 'Detroit', 'HOUSTON' : 'Houston',\n",
    "                  'LA' : 'Los Angeles', 'MIA' : 'Miami', 'NEWARK' : 'Newark', 'NEW ORLEANS' : 'New Orleans', 'PHIL' : 'Philadelphia'}                                                                                          \n",
    "df = df.replace({\"City\": replace_values})  "
   ]
  },
  {
   "cell_type": "code",
   "execution_count": 27,
   "metadata": {},
   "outputs": [],
   "source": [
    "# count number of unique users for different time period\n",
    "dates = sorted(df['date'].unique())\n",
    "unique_user = list()\n",
    "for date in dates: \n",
    "    unique_user.append(df[df['date'] < date]['User'].nunique())\n",
    "\n",
    "lag_user = [0]+unique_user \n",
    "lag_user = lag_user[:-1]"
   ]
  },
  {
   "cell_type": "code",
   "execution_count": 28,
   "metadata": {},
   "outputs": [
    {
     "data": {
      "text/html": [
       "<div>\n",
       "<style scoped>\n",
       "    .dataframe tbody tr th:only-of-type {\n",
       "        vertical-align: middle;\n",
       "    }\n",
       "\n",
       "    .dataframe tbody tr th {\n",
       "        vertical-align: top;\n",
       "    }\n",
       "\n",
       "    .dataframe thead th {\n",
       "        text-align: right;\n",
       "    }\n",
       "</style>\n",
       "<table border=\"1\" class=\"dataframe\">\n",
       "  <thead>\n",
       "    <tr style=\"text-align: right;\">\n",
       "      <th></th>\n",
       "      <th>User</th>\n",
       "      <th>Text</th>\n",
       "      <th>num_of_text_per_capita</th>\n",
       "      <th>total_unique_user</th>\n",
       "      <th>new_user</th>\n",
       "    </tr>\n",
       "    <tr>\n",
       "      <th>date</th>\n",
       "      <th></th>\n",
       "      <th></th>\n",
       "      <th></th>\n",
       "      <th></th>\n",
       "      <th></th>\n",
       "    </tr>\n",
       "  </thead>\n",
       "  <tbody>\n",
       "    <tr>\n",
       "      <td>2020-04-02</td>\n",
       "      <td>426</td>\n",
       "      <td>483</td>\n",
       "      <td>1.133803</td>\n",
       "      <td>4543</td>\n",
       "      <td>260</td>\n",
       "    </tr>\n",
       "    <tr>\n",
       "      <td>2020-04-03</td>\n",
       "      <td>432</td>\n",
       "      <td>493</td>\n",
       "      <td>1.141204</td>\n",
       "      <td>4800</td>\n",
       "      <td>257</td>\n",
       "    </tr>\n",
       "    <tr>\n",
       "      <td>2020-04-04</td>\n",
       "      <td>389</td>\n",
       "      <td>450</td>\n",
       "      <td>1.156812</td>\n",
       "      <td>5042</td>\n",
       "      <td>242</td>\n",
       "    </tr>\n",
       "    <tr>\n",
       "      <td>2020-04-05</td>\n",
       "      <td>445</td>\n",
       "      <td>510</td>\n",
       "      <td>1.146067</td>\n",
       "      <td>5265</td>\n",
       "      <td>223</td>\n",
       "    </tr>\n",
       "    <tr>\n",
       "      <td>2020-04-06</td>\n",
       "      <td>1835</td>\n",
       "      <td>2008</td>\n",
       "      <td>1.094278</td>\n",
       "      <td>5513</td>\n",
       "      <td>248</td>\n",
       "    </tr>\n",
       "    <tr>\n",
       "      <td>2020-04-07</td>\n",
       "      <td>1904</td>\n",
       "      <td>2182</td>\n",
       "      <td>1.146008</td>\n",
       "      <td>7129</td>\n",
       "      <td>1616</td>\n",
       "    </tr>\n",
       "    <tr>\n",
       "      <td>2020-04-08</td>\n",
       "      <td>2199</td>\n",
       "      <td>2476</td>\n",
       "      <td>1.125966</td>\n",
       "      <td>8635</td>\n",
       "      <td>1506</td>\n",
       "    </tr>\n",
       "    <tr>\n",
       "      <td>2020-04-09</td>\n",
       "      <td>2150</td>\n",
       "      <td>2475</td>\n",
       "      <td>1.151163</td>\n",
       "      <td>10280</td>\n",
       "      <td>1645</td>\n",
       "    </tr>\n",
       "    <tr>\n",
       "      <td>2020-04-10</td>\n",
       "      <td>2153</td>\n",
       "      <td>2462</td>\n",
       "      <td>1.143521</td>\n",
       "      <td>11791</td>\n",
       "      <td>1511</td>\n",
       "    </tr>\n",
       "    <tr>\n",
       "      <td>2020-04-11</td>\n",
       "      <td>1931</td>\n",
       "      <td>2266</td>\n",
       "      <td>1.173485</td>\n",
       "      <td>13229</td>\n",
       "      <td>1438</td>\n",
       "    </tr>\n",
       "  </tbody>\n",
       "</table>\n",
       "</div>"
      ],
      "text/plain": [
       "            User  Text  num_of_text_per_capita  total_unique_user  new_user\n",
       "date                                                                       \n",
       "2020-04-02   426   483                1.133803               4543       260\n",
       "2020-04-03   432   493                1.141204               4800       257\n",
       "2020-04-04   389   450                1.156812               5042       242\n",
       "2020-04-05   445   510                1.146067               5265       223\n",
       "2020-04-06  1835  2008                1.094278               5513       248\n",
       "2020-04-07  1904  2182                1.146008               7129      1616\n",
       "2020-04-08  2199  2476                1.125966               8635      1506\n",
       "2020-04-09  2150  2475                1.151163              10280      1645\n",
       "2020-04-10  2153  2462                1.143521              11791      1511\n",
       "2020-04-11  1931  2266                1.173485              13229      1438"
      ]
     },
     "execution_count": 28,
     "metadata": {},
     "output_type": "execute_result"
    }
   ],
   "source": [
    "# calculate users per day\n",
    "user1 = pd.DataFrame(df.groupby('date')['User'].nunique())\n",
    "user2 = pd.DataFrame(df.groupby('date')['Text'].nunique())\n",
    "user = pd.concat([user1,user2],axis =1)\n",
    "user['num_of_text_per_capita'] = user['Text']/user['User']\n",
    "user['total_unique_user'] = unique_user\n",
    "user['lag_user'] = lag_user\n",
    "user['new_user'] = user['total_unique_user']-user['lag_user']\n",
    "user.drop(['lag_user'],axis = 1, inplace = True)\n",
    "user.tail(10)"
   ]
  },
  {
   "cell_type": "markdown",
   "metadata": {},
   "source": [
    "Raw data is imbalanced in user number."
   ]
  },
  {
   "cell_type": "code",
   "execution_count": 29,
   "metadata": {},
   "outputs": [
    {
     "data": {
      "text/plain": [
       "(11631, 8)"
      ]
     },
     "execution_count": 29,
     "metadata": {},
     "output_type": "execute_result"
    }
   ],
   "source": [
    "# select '2020-04-06' as division\n",
    "# old users: who started to be active before 04-06\n",
    "# new_users: who weren't active until 04-06\n",
    "existing_user= df[df['date'] < '2020-04-06']['User'].unique()\n",
    "\n",
    "# retain all old users\n",
    "df1 = df[df['User'].isin(existing_user)]                      \n",
    "df2 = df[-df['User'].isin(existing_user)]\n",
    "\n",
    "# sample new users\n",
    "df2 = df2.sample(1300)\n",
    "\n",
    "# get new sample\n",
    "df = pd.concat([df1,df2])                                     \n",
    "\n",
    "# export new sample\n",
    "df.to_csv(\"StayHome_final.csv\", index = False)\n",
    "df.shape"
   ]
  },
  {
   "cell_type": "code",
   "execution_count": 30,
   "metadata": {},
   "outputs": [
    {
     "data": {
      "text/plain": [
       "[Text(0, 0, '2020-03-05'),\n",
       " Text(0, 0, '2020-03-08'),\n",
       " Text(0, 0, '2020-03-09'),\n",
       " Text(0, 0, '2020-03-10'),\n",
       " Text(0, 0, '2020-03-11'),\n",
       " Text(0, 0, '2020-03-12'),\n",
       " Text(0, 0, '2020-03-13'),\n",
       " Text(0, 0, '2020-03-14'),\n",
       " Text(0, 0, '2020-03-15'),\n",
       " Text(0, 0, '2020-03-16'),\n",
       " Text(0, 0, '2020-03-17'),\n",
       " Text(0, 0, '2020-03-18'),\n",
       " Text(0, 0, '2020-03-19'),\n",
       " Text(0, 0, '2020-03-20'),\n",
       " Text(0, 0, '2020-03-21'),\n",
       " Text(0, 0, '2020-03-22'),\n",
       " Text(0, 0, '2020-03-23'),\n",
       " Text(0, 0, '2020-03-24'),\n",
       " Text(0, 0, '2020-03-25'),\n",
       " Text(0, 0, '2020-03-26'),\n",
       " Text(0, 0, '2020-03-27'),\n",
       " Text(0, 0, '2020-03-28'),\n",
       " Text(0, 0, '2020-03-29'),\n",
       " Text(0, 0, '2020-03-30'),\n",
       " Text(0, 0, '2020-03-31'),\n",
       " Text(0, 0, '2020-04-01'),\n",
       " Text(0, 0, '2020-04-02'),\n",
       " Text(0, 0, '2020-04-03'),\n",
       " Text(0, 0, '2020-04-04'),\n",
       " Text(0, 0, '2020-04-05'),\n",
       " Text(0, 0, '2020-04-06'),\n",
       " Text(0, 0, '2020-04-07'),\n",
       " Text(0, 0, '2020-04-08'),\n",
       " Text(0, 0, '2020-04-09'),\n",
       " Text(0, 0, '2020-04-10'),\n",
       " Text(0, 0, '2020-04-11')]"
      ]
     },
     "execution_count": 30,
     "metadata": {},
     "output_type": "execute_result"
    },
    {
     "data": {
      "image/png": "[encoded data removed]",
      "text/plain": [
       "<Figure size 864x360 with 1 Axes>"
      ]
     },
     "metadata": {
      "needs_background": "light"
     },
     "output_type": "display_data"
    }
   ],
   "source": [
    "# plot the distribution of our new sample\n",
    "fig = plt.figure(figsize = (12,5))\n",
    "chart = sns.countplot(df['date'], order = sorted(df['date'].unique()))\n",
    "chart.set_xticklabels(chart.get_xticklabels(), rotation = 45)"
   ]
  },
  {
   "cell_type": "code",
   "execution_count": 33,
   "metadata": {},
   "outputs": [],
   "source": [
    "# count number of unique users for different time period\n",
    "dates = sorted(df['date'].unique())\n",
    "unique_user = list()\n",
    "for date in dates: \n",
    "    unique_user.append(df[df['date'] < date]['User'].nunique())\n",
    "\n",
    "lag_user = [0]+unique_user \n",
    "lag_user = lag_user[:-1]"
   ]
  },
  {
   "cell_type": "code",
   "execution_count": 34,
   "metadata": {},
   "outputs": [
    {
     "data": {
      "text/html": [
       "<div>\n",
       "<style scoped>\n",
       "    .dataframe tbody tr th:only-of-type {\n",
       "        vertical-align: middle;\n",
       "    }\n",
       "\n",
       "    .dataframe tbody tr th {\n",
       "        vertical-align: top;\n",
       "    }\n",
       "\n",
       "    .dataframe thead th {\n",
       "        text-align: right;\n",
       "    }\n",
       "</style>\n",
       "<table border=\"1\" class=\"dataframe\">\n",
       "  <thead>\n",
       "    <tr style=\"text-align: right;\">\n",
       "      <th></th>\n",
       "      <th>User</th>\n",
       "      <th>Text</th>\n",
       "      <th>num_of_text_per_capita</th>\n",
       "      <th>total_unique_user</th>\n",
       "      <th>new_user</th>\n",
       "    </tr>\n",
       "    <tr>\n",
       "      <th>date</th>\n",
       "      <th></th>\n",
       "      <th></th>\n",
       "      <th></th>\n",
       "      <th></th>\n",
       "      <th></th>\n",
       "    </tr>\n",
       "  </thead>\n",
       "  <tbody>\n",
       "    <tr>\n",
       "      <td>2020-04-02</td>\n",
       "      <td>426</td>\n",
       "      <td>483</td>\n",
       "      <td>1.133803</td>\n",
       "      <td>4543</td>\n",
       "      <td>260</td>\n",
       "    </tr>\n",
       "    <tr>\n",
       "      <td>2020-04-03</td>\n",
       "      <td>432</td>\n",
       "      <td>493</td>\n",
       "      <td>1.141204</td>\n",
       "      <td>4800</td>\n",
       "      <td>257</td>\n",
       "    </tr>\n",
       "    <tr>\n",
       "      <td>2020-04-04</td>\n",
       "      <td>389</td>\n",
       "      <td>450</td>\n",
       "      <td>1.156812</td>\n",
       "      <td>5042</td>\n",
       "      <td>242</td>\n",
       "    </tr>\n",
       "    <tr>\n",
       "      <td>2020-04-05</td>\n",
       "      <td>445</td>\n",
       "      <td>510</td>\n",
       "      <td>1.146067</td>\n",
       "      <td>5265</td>\n",
       "      <td>223</td>\n",
       "    </tr>\n",
       "    <tr>\n",
       "      <td>2020-04-06</td>\n",
       "      <td>406</td>\n",
       "      <td>451</td>\n",
       "      <td>1.110837</td>\n",
       "      <td>5513</td>\n",
       "      <td>248</td>\n",
       "    </tr>\n",
       "    <tr>\n",
       "      <td>2020-04-07</td>\n",
       "      <td>401</td>\n",
       "      <td>457</td>\n",
       "      <td>1.139651</td>\n",
       "      <td>5700</td>\n",
       "      <td>187</td>\n",
       "    </tr>\n",
       "    <tr>\n",
       "      <td>2020-04-08</td>\n",
       "      <td>440</td>\n",
       "      <td>489</td>\n",
       "      <td>1.111364</td>\n",
       "      <td>5887</td>\n",
       "      <td>187</td>\n",
       "    </tr>\n",
       "    <tr>\n",
       "      <td>2020-04-09</td>\n",
       "      <td>411</td>\n",
       "      <td>468</td>\n",
       "      <td>1.138686</td>\n",
       "      <td>6107</td>\n",
       "      <td>220</td>\n",
       "    </tr>\n",
       "    <tr>\n",
       "      <td>2020-04-10</td>\n",
       "      <td>418</td>\n",
       "      <td>481</td>\n",
       "      <td>1.150718</td>\n",
       "      <td>6311</td>\n",
       "      <td>204</td>\n",
       "    </tr>\n",
       "    <tr>\n",
       "      <td>2020-04-11</td>\n",
       "      <td>431</td>\n",
       "      <td>500</td>\n",
       "      <td>1.160093</td>\n",
       "      <td>6527</td>\n",
       "      <td>216</td>\n",
       "    </tr>\n",
       "  </tbody>\n",
       "</table>\n",
       "</div>"
      ],
      "text/plain": [
       "            User  Text  num_of_text_per_capita  total_unique_user  new_user\n",
       "date                                                                       \n",
       "2020-04-02   426   483                1.133803               4543       260\n",
       "2020-04-03   432   493                1.141204               4800       257\n",
       "2020-04-04   389   450                1.156812               5042       242\n",
       "2020-04-05   445   510                1.146067               5265       223\n",
       "2020-04-06   406   451                1.110837               5513       248\n",
       "2020-04-07   401   457                1.139651               5700       187\n",
       "2020-04-08   440   489                1.111364               5887       187\n",
       "2020-04-09   411   468                1.138686               6107       220\n",
       "2020-04-10   418   481                1.150718               6311       204\n",
       "2020-04-11   431   500                1.160093               6527       216"
      ]
     },
     "execution_count": 34,
     "metadata": {},
     "output_type": "execute_result"
    }
   ],
   "source": [
    "# calculate users per day\n",
    "user1 = pd.DataFrame(df.groupby('date')['User'].nunique())\n",
    "user2 = pd.DataFrame(df.groupby('date')['Text'].nunique())\n",
    "user = pd.concat([user1,user2],axis =1)\n",
    "user['num_of_text_per_capita'] = user['Text']/user['User']\n",
    "user['total_unique_user'] = unique_user\n",
    "user['lag_user'] = lag_user\n",
    "user['new_user'] = user['total_unique_user']-user['lag_user']\n",
    "user.drop(['lag_user'],axis =1, inplace = True)\n",
    "user.tail(10)"
   ]
  },
  {
   "cell_type": "markdown",
   "metadata": {},
   "source": [
    "The new dataset is balanced in user numbers."
   ]
  }
 ],
 "metadata": {
  "kernelspec": {
   "display_name": "Python 3",
   "language": "python",
   "name": "python3"
  },
  "language_info": {
   "codemirror_mode": {
    "name": "ipython",
    "version": 3
   },
   "file_extension": ".py",
   "mimetype": "text/x-python",
   "name": "python",
   "nbconvert_exporter": "python",
   "pygments_lexer": "ipython3",
   "version": "3.7.4"
  }
 },
 "nbformat": 4,
 "nbformat_minor": 2
}
